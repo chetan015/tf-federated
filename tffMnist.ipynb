{
  "nbformat": 4,
  "nbformat_minor": 0,
  "metadata": {
    "colab": {
      "name": "tffMnist.ipynb",
      "provenance": [],
      "collapsed_sections": [],
      "authorship_tag": "ABX9TyOmSfPnh7q8hs3B4kgDLFMH",
      "include_colab_link": true
    },
    "kernelspec": {
      "name": "python3",
      "display_name": "Python 3"
    }
  },
  "cells": [
    {
      "cell_type": "markdown",
      "metadata": {
        "id": "view-in-github",
        "colab_type": "text"
      },
      "source": [
        "<a href=\"https://colab.research.google.com/github/chetan015/tf-federated/blob/master/tffMnist.ipynb\" target=\"_parent\"><img src=\"https://colab.research.google.com/assets/colab-badge.svg\" alt=\"Open In Colab\"/></a>"
      ]
    },
    {
      "cell_type": "markdown",
      "metadata": {
        "id": "xvWjGi9FndNh",
        "colab_type": "text"
      },
      "source": [
        "Federated Training on MNIST Dataset implementation using the high level Federated Learning (FL) API of TensorFlow Federated (TFF).  \n",
        "[Go to Source](https://www.tensorflow.org/federated/tutorials/federated_learning_for_image_classification)"
      ]
    },
    {
      "cell_type": "markdown",
      "metadata": {
        "id": "O52yohhfpdAK",
        "colab_type": "text"
      },
      "source": [
        "Ensure the environment is setup correctly"
      ]
    },
    {
      "cell_type": "code",
      "metadata": {
        "id": "0QDmZFZAmJi8",
        "colab_type": "code",
        "colab": {
          "base_uri": "https://localhost:8080/",
          "height": 51
        },
        "outputId": "e4189b3e-4839-42f8-bf8f-d347e4b62cf6"
      },
      "source": [
        "\n",
        "!pip install --quiet --upgrade tensorflow_federated\n",
        "\n",
        "%load_ext tensorboard"
      ],
      "execution_count": 86,
      "outputs": [
        {
          "output_type": "stream",
          "text": [
            "The tensorboard extension is already loaded. To reload it, use:\n",
            "  %reload_ext tensorboard\n"
          ],
          "name": "stdout"
        }
      ]
    },
    {
      "cell_type": "markdown",
      "metadata": {
        "id": "0H93npOopoGQ",
        "colab_type": "text"
      },
      "source": [
        "Import collections, numpy, TensorFlow and TFF libraries"
      ]
    },
    {
      "cell_type": "code",
      "metadata": {
        "id": "dN5I8bT3puNz",
        "colab_type": "code",
        "colab": {}
      },
      "source": [
        "import collections\n",
        "\n",
        "import numpy as np\n",
        "import tensorflow as tf\n",
        "import tensorflow_federated as tff\n",
        "from matplotlib import pyplot as plt\n",
        "\n",
        "np.random.seed(0)"
      ],
      "execution_count": 87,
      "outputs": []
    },
    {
      "cell_type": "markdown",
      "metadata": {
        "id": "l_OxyTiM1UY-",
        "colab_type": "text"
      },
      "source": [
        "Define Constants to be used"
      ]
    },
    {
      "cell_type": "code",
      "metadata": {
        "id": "skr-xJ5R1UIo",
        "colab_type": "code",
        "colab": {}
      },
      "source": [
        "NUM_CLIENTS = 10 #@param {type:\"integer\"}\n",
        "NUM_EPOCHS = 5 #@param {type:\"integer\"}\n",
        "BATCH_SIZE = 20 #@param {type:\"integer\"}\n",
        "SHUFFLE_BUFFER = 100 #@param {type:\"integer\"}\n",
        "PREFETCH_BUFFER=10 #@param {type:\"integer\"}"
      ],
      "execution_count": 88,
      "outputs": []
    },
    {
      "cell_type": "markdown",
      "metadata": {
        "id": "4urDT0j5pxdx",
        "colab_type": "text"
      },
      "source": [
        "Data Preparation\n",
        "The TFF library has a federated version of the classic MNIST digits image dataset. Using, [LEAF](https://github.com/TalwalkarLab/leaf), the original dataset has been partitioned as per the original writers of the digits. This is typical of a federated setting, where the on device data is non IID.  "
      ]
    },
    {
      "cell_type": "code",
      "metadata": {
        "id": "XkwKQGb4qszg",
        "colab_type": "code",
        "colab": {
          "base_uri": "https://localhost:8080/",
          "height": 71
        },
        "outputId": "5348d3b0-95a5-41d2-a3a3-e41bec9ff8a3"
      },
      "source": [
        "# Load Dataset as train and test sets\n",
        "emnist_train, emnist_test = tff.simulation.datasets.emnist.load_data()"
      ],
      "execution_count": 89,
      "outputs": [
        {
          "output_type": "stream",
          "text": [
            "/usr/local/lib/python3.6/dist-packages/tensorflow_federated/python/simulation/hdf5_client_data.py:63: H5pyDeprecationWarning: dataset.value has been deprecated. Use dataset[()] instead.\n",
            "  collections.OrderedDict((name, ds.value) for name, ds in sorted(\n"
          ],
          "name": "stderr"
        }
      ]
    },
    {
      "cell_type": "markdown",
      "metadata": {
        "id": "zWMQc1tcrWaP",
        "colab_type": "text"
      },
      "source": [
        "emnist_train and emnist_test are instances of tff.simulation.ClientData, which allows enumeration of set of users, construction of a tf.data.Dataset for each client/user and query structure of individual elements. It is an object to hold a dataset and a mapping of clients to examples. This can be verified by the code snippet below.\n",
        "\n",
        "There are 3383 Client ids. The dataset comprises images of size 28x28."
      ]
    },
    {
      "cell_type": "code",
      "metadata": {
        "id": "bO_lo2B5q-7b",
        "colab_type": "code",
        "colab": {
          "base_uri": "https://localhost:8080/",
          "height": 88
        },
        "outputId": "b54ae5f4-48a8-4ff9-fdf4-8d4012e2edb6"
      },
      "source": [
        "print(type(emnist_train))\n",
        "print(len(emnist_train.client_ids))\n",
        "print(emnist_train.element_type_structure)"
      ],
      "execution_count": 90,
      "outputs": [
        {
          "output_type": "stream",
          "text": [
            "<class 'tensorflow_federated.python.simulation.hdf5_client_data.HDF5ClientData'>\n",
            "3383\n",
            "OrderedDict([('label', TensorSpec(shape=(), dtype=tf.int32, name=None)), ('pixels', TensorSpec(shape=(28, 28), dtype=tf.float32, name=None))])\n"
          ],
          "name": "stdout"
        }
      ]
    },
    {
      "cell_type": "markdown",
      "metadata": {
        "id": "D7az-E4JwdD0",
        "colab_type": "text"
      },
      "source": [
        "Let's create a sample client dataset and inspect a random image and its label "
      ]
    },
    {
      "cell_type": "code",
      "metadata": {
        "id": "HXNSYuV-wcvn",
        "colab_type": "code",
        "colab": {
          "base_uri": "https://localhost:8080/",
          "height": 319
        },
        "outputId": "163a097a-aa9b-4c1a-8561-a224509c5669"
      },
      "source": [
        "example_dataset = emnist_train.create_tf_dataset_for_client(emnist_train.client_ids[0])\n",
        "example_element = next(iter(example_dataset))\n",
        "example_element['label'].numpy()\n",
        "\n",
        "plt.imshow(example_element['pixels'].numpy(), cmap='gray', aspect='equal')\n",
        "plt.grid(False)\n",
        "_ = plt.show()"
      ],
      "execution_count": 91,
      "outputs": [
        {
          "output_type": "stream",
          "text": [
            "/usr/local/lib/python3.6/dist-packages/tensorflow_federated/python/simulation/hdf5_client_data.py:63: H5pyDeprecationWarning: dataset.value has been deprecated. Use dataset[()] instead.\n",
            "  collections.OrderedDict((name, ds.value) for name, ds in sorted(\n"
          ],
          "name": "stderr"
        },
        {
          "output_type": "display_data",
          "data": {
            "image/png": "[encoded data removed]",
            "text/plain": [
              "<Figure size 432x288 with 1 Axes>"
            ]
          },
          "metadata": {
            "tags": [],
            "needs_background": "light"
          }
        }
      ]
    },
    {
      "cell_type": "markdown",
      "metadata": {
        "id": "AZo3radAxtkn",
        "colab_type": "text"
      },
      "source": [
        "Dataset Preprocessing: Each 28x28 image is flattened to a 784 element array, the individual examples are shuffled and organized into batches. The features 'pixels' and 'label' are renamed to 'x' and 'y'"
      ]
    },
    {
      "cell_type": "code",
      "metadata": {
        "id": "vrgxhmbIxt3Q",
        "colab_type": "code",
        "colab": {}
      },
      "source": [
        "def preprocess(dataset):\n",
        "\n",
        "  def batch_format_fn(element):\n",
        "    \"\"\"Flatten a batch `pixels` and return the features as an `OrderedDict`.\"\"\"\n",
        "    return collections.OrderedDict(\n",
        "        x=tf.reshape(element['pixels'], [-1, 784]),\n",
        "        y=tf.reshape(element['label'], [-1, 1]))\n",
        "\n",
        "  return dataset.repeat(NUM_EPOCHS).shuffle(SHUFFLE_BUFFER).batch(\n",
        "      BATCH_SIZE).map(batch_format_fn).prefetch(PREFETCH_BUFFER)"
      ],
      "execution_count": 92,
      "outputs": []
    },
    {
      "cell_type": "code",
      "metadata": {
        "id": "Yz7adtGqyRoU",
        "colab_type": "code",
        "colab": {
          "base_uri": "https://localhost:8080/",
          "height": 476
        },
        "outputId": "9d7330ea-cbe7-4f82-cd35-87073d4da8bd"
      },
      "source": [
        "preprocessed_example_dataset = preprocess(example_dataset)\n",
        "\n",
        "sample_batch = tf.nest.map_structure(lambda x: x.numpy(),\n",
        "                                     next(iter(preprocessed_example_dataset)))\n",
        "\n",
        "sample_batch"
      ],
      "execution_count": 93,
      "outputs": [
        {
          "output_type": "execute_result",
          "data": {
            "text/plain": [
              "OrderedDict([('x', array([[1., 1., 1., ..., 1., 1., 1.],\n",
              "                     [1., 1., 1., ..., 1., 1., 1.],\n",
              "                     [1., 1., 1., ..., 1., 1., 1.],\n",
              "                     ...,\n",
              "                     [1., 1., 1., ..., 1., 1., 1.],\n",
              "                     [1., 1., 1., ..., 1., 1., 1.],\n",
              "                     [1., 1., 1., ..., 1., 1., 1.]], dtype=float32)),\n",
              "             ('y', array([[9],\n",
              "                     [1],\n",
              "                     [7],\n",
              "                     [1],\n",
              "                     [3],\n",
              "                     [0],\n",
              "                     [2],\n",
              "                     [2],\n",
              "                     [6],\n",
              "                     [3],\n",
              "                     [4],\n",
              "                     [7],\n",
              "                     [1],\n",
              "                     [2],\n",
              "                     [6],\n",
              "                     [6],\n",
              "                     [4],\n",
              "                     [1],\n",
              "                     [0],\n",
              "                     [0]], dtype=int32))])"
            ]
          },
          "metadata": {
            "tags": []
          },
          "execution_count": 93
        }
      ]
    },
    {
      "cell_type": "markdown",
      "metadata": {
        "id": "KpXVDVBPzxw9",
        "colab_type": "text"
      },
      "source": [
        "A helper function to construct a list of datasets from provided list of clients. Since this is a simulation, we are creating and partioning the dataset. In actual federated setting, the dataset would be locally available with each client, undiscoverable and inaccessible externally."
      ]
    },
    {
      "cell_type": "code",
      "metadata": {
        "id": "O_gncxyDzwO1",
        "colab_type": "code",
        "colab": {}
      },
      "source": [
        "def make_federated_data(client_data, client_ids):\n",
        "  return [\n",
        "      preprocess(client_data.create_tf_dataset_for_client(x))\n",
        "      for x in client_ids\n",
        "  ]"
      ],
      "execution_count": 94,
      "outputs": []
    },
    {
      "cell_type": "markdown",
      "metadata": {
        "id": "qKwXaqaQ0lql",
        "colab_type": "text"
      },
      "source": [
        "While there may be hundreds or thousands of clients available, only a subset of these are selected for participation in the Federated Averaging algorithm. This simulation samples the set of clients and reuses the same set across rounds."
      ]
    },
    {
      "cell_type": "code",
      "metadata": {
        "id": "eRw4d3Bn0xzR",
        "colab_type": "code",
        "colab": {
          "base_uri": "https://localhost:8080/",
          "height": 105
        },
        "outputId": "10e639de-0000-479d-82a8-5162a46cbdbf"
      },
      "source": [
        "sample_clients = emnist_train.client_ids[0:NUM_CLIENTS]\n",
        "\n",
        "federated_train_data = make_federated_data(emnist_train, sample_clients)\n",
        "\n",
        "print('Number of client datasets: {l}'.format(l=len(federated_train_data)))\n",
        "print('First dataset: {d}'.format(d=federated_train_data[0]))"
      ],
      "execution_count": 95,
      "outputs": [
        {
          "output_type": "stream",
          "text": [
            "Number of client datasets: 10\n",
            "First dataset: <PrefetchDataset shapes: OrderedDict([(x, (None, 784)), (y, (None, 1))]), types: OrderedDict([(x, tf.float32), (y, tf.int32)])>\n"
          ],
          "name": "stdout"
        },
        {
          "output_type": "stream",
          "text": [
            "/usr/local/lib/python3.6/dist-packages/tensorflow_federated/python/simulation/hdf5_client_data.py:63: H5pyDeprecationWarning: dataset.value has been deprecated. Use dataset[()] instead.\n",
            "  collections.OrderedDict((name, ds.value) for name, ds in sorted(\n"
          ],
          "name": "stderr"
        }
      ]
    },
    {
      "cell_type": "markdown",
      "metadata": {
        "id": "tN9Oxj7O25y7",
        "colab_type": "text"
      },
      "source": [
        "Model creation with Keras"
      ]
    },
    {
      "cell_type": "code",
      "metadata": {
        "id": "_-OHmYm-248D",
        "colab_type": "code",
        "colab": {}
      },
      "source": [
        "def create_keras_model():\n",
        "  return tf.keras.models.Sequential([\n",
        "      tf.keras.layers.Input(shape=(784,)),\n",
        "      tf.keras.layers.Reshape((28,28,1),input_shape = (784,)),\n",
        "      tf.keras.layers.Conv2D(8, 3, activation='relu', input_shape=(28,28,1)), #26\n",
        "      tf.keras.layers.Conv2D(16, 3, activation='relu'), #24\n",
        "      tf.keras.layers.Conv2D(32, 3, activation='relu'), #22\n",
        "      tf.keras.layers.MaxPooling2D(pool_size=(2, 2)), #11\n",
        "      tf.keras.layers.Conv2D(8,1,activation='relu'), \n",
        "      tf.keras.layers.Conv2D(16, 3, activation='relu'), #9\n",
        "      tf.keras.layers.Conv2D(32, 3, activation='relu'), #7\n",
        "      tf.keras.layers.Conv2D(32, 1, activation='relu'), #7\n",
        "      tf.keras.layers.Conv2D(10, 7),\n",
        "      tf.keras.layers.Flatten(),\n",
        "      tf.keras.layers.Activation('softmax'),\n",
        "  ])"
      ],
      "execution_count": 96,
      "outputs": []
    },
    {
      "cell_type": "code",
      "metadata": {
        "id": "EQDsHx0REzA7",
        "colab_type": "code",
        "colab": {
          "base_uri": "https://localhost:8080/",
          "height": 561
        },
        "outputId": "3dee48da-cd49-4d92-8d80-4be4f28948d8"
      },
      "source": [
        "model = create_keras_model()\n",
        "model.summary()"
      ],
      "execution_count": 97,
      "outputs": [
        {
          "output_type": "stream",
          "text": [
            "Model: \"sequential_9\"\n",
            "_________________________________________________________________\n",
            "Layer (type)                 Output Shape              Param #   \n",
            "=================================================================\n",
            "reshape_5 (Reshape)          (None, 28, 28, 1)         0         \n",
            "_________________________________________________________________\n",
            "conv2d_48 (Conv2D)           (None, 26, 26, 8)         80        \n",
            "_________________________________________________________________\n",
            "conv2d_49 (Conv2D)           (None, 24, 24, 16)        1168      \n",
            "_________________________________________________________________\n",
            "conv2d_50 (Conv2D)           (None, 22, 22, 32)        4640      \n",
            "_________________________________________________________________\n",
            "max_pooling2d_7 (MaxPooling2 (None, 11, 11, 32)        0         \n",
            "_________________________________________________________________\n",
            "conv2d_51 (Conv2D)           (None, 11, 11, 8)         264       \n",
            "_________________________________________________________________\n",
            "conv2d_52 (Conv2D)           (None, 9, 9, 16)          1168      \n",
            "_________________________________________________________________\n",
            "conv2d_53 (Conv2D)           (None, 7, 7, 32)          4640      \n",
            "_________________________________________________________________\n",
            "conv2d_54 (Conv2D)           (None, 7, 7, 32)          1056      \n",
            "_________________________________________________________________\n",
            "conv2d_55 (Conv2D)           (None, 1, 1, 10)          15690     \n",
            "_________________________________________________________________\n",
            "flatten_5 (Flatten)          (None, 10)                0         \n",
            "_________________________________________________________________\n",
            "activation_5 (Activation)    (None, 10)                0         \n",
            "=================================================================\n",
            "Total params: 28,706\n",
            "Trainable params: 28,706\n",
            "Non-trainable params: 0\n",
            "_________________________________________________________________\n"
          ],
          "name": "stdout"
        }
      ]
    },
    {
      "cell_type": "markdown",
      "metadata": {
        "id": "8szAOO9K8YJn",
        "colab_type": "text"
      },
      "source": [
        "The TFF model function helper calls the keras model creation helper. This model needs to be wrapped in an instance of `tff.learning.Model` interface. This interface, similar to Keras, exposes methods to stamp the forward pass, metadata and metrics among others, and also introduces elements to support the federated environment, like ways to control computation of federated metric."
      ]
    },
    {
      "cell_type": "code",
      "metadata": {
        "id": "z2aOX2KY6NAX",
        "colab_type": "code",
        "colab": {}
      },
      "source": [
        "def model_fn():\n",
        "  # We _must_ create a new model here, and _not_ capture it from an external\n",
        "  # scope. TFF will call this within different graph contexts.\n",
        "  keras_model = create_keras_model()\n",
        "  return tff.learning.from_keras_model(\n",
        "      keras_model,\n",
        "      input_spec=preprocessed_example_dataset.element_spec,\n",
        "      loss=tf.keras.losses.SparseCategoricalCrossentropy(),\n",
        "      metrics=[tf.keras.metrics.SparseCategoricalAccuracy()])"
      ],
      "execution_count": 98,
      "outputs": []
    },
    {
      "cell_type": "markdown",
      "metadata": {
        "id": "cT-AqyVk9Zo5",
        "colab_type": "text"
      },
      "source": [
        "Model Training on Federated data"
      ]
    },
    {
      "cell_type": "markdown",
      "metadata": {
        "id": "KJPShfrr9qtC",
        "colab_type": "text"
      },
      "source": [
        "The `tff.learning.build_federated_averaging_process` helper function helps construct a Federated Averagin algorithm for model training. The optimizer here differs from that we are used to. There are two optimizers: clientoptimizer and serveroptimizer, since the model training happens on device, and the global model trains with the average update of client models as well. To start with, regular SGD with small learning rate is used. "
      ]
    },
    {
      "cell_type": "code",
      "metadata": {
        "id": "RNDSEnF96OEO",
        "colab_type": "code",
        "colab": {
          "base_uri": "https://localhost:8080/",
          "height": 105
        },
        "outputId": "ea3b35f8-d164-466f-e0d8-e36763ad61d2"
      },
      "source": [
        "iterative_process = tff.learning.build_federated_averaging_process(\n",
        "    model_fn,\n",
        "    client_optimizer_fn=lambda: tf.keras.optimizers.SGD(learning_rate=0.1),\n",
        "    server_optimizer_fn=lambda: tf.keras.optimizers.SGD(learning_rate=1.0))"
      ],
      "execution_count": 99,
      "outputs": [
        {
          "output_type": "stream",
          "text": [
            "WARNING:tensorflow:9 out of the last 9 calls to <function zero_all_if_any_non_finite at 0x7fe2d316e400> triggered tf.function retracing. Tracing is expensive and the excessive number of tracings is likely due to passing python objects instead of tensors. Also, tf.function has experimental_relax_shapes=True option that relaxes argument shapes that can avoid unnecessary retracing. Please refer to https://www.tensorflow.org/tutorials/customization/performance#python_or_tensor_args and https://www.tensorflow.org/api_docs/python/tf/function for more details.\n"
          ],
          "name": "stdout"
        },
        {
          "output_type": "stream",
          "text": [
            "WARNING:tensorflow:9 out of the last 9 calls to <function zero_all_if_any_non_finite at 0x7fe2d316e400> triggered tf.function retracing. Tracing is expensive and the excessive number of tracings is likely due to passing python objects instead of tensors. Also, tf.function has experimental_relax_shapes=True option that relaxes argument shapes that can avoid unnecessary retracing. Please refer to https://www.tensorflow.org/tutorials/customization/performance#python_or_tensor_args and https://www.tensorflow.org/api_docs/python/tf/function for more details.\n"
          ],
          "name": "stderr"
        },
        {
          "output_type": "stream",
          "text": [
            "WARNING:tensorflow:10 out of the last 10 calls to <function zero_all_if_any_non_finite at 0x7fe2d316e400> triggered tf.function retracing. Tracing is expensive and the excessive number of tracings is likely due to passing python objects instead of tensors. Also, tf.function has experimental_relax_shapes=True option that relaxes argument shapes that can avoid unnecessary retracing. Please refer to https://www.tensorflow.org/tutorials/customization/performance#python_or_tensor_args and https://www.tensorflow.org/api_docs/python/tf/function for more details.\n"
          ],
          "name": "stdout"
        },
        {
          "output_type": "stream",
          "text": [
            "WARNING:tensorflow:10 out of the last 10 calls to <function zero_all_if_any_non_finite at 0x7fe2d316e400> triggered tf.function retracing. Tracing is expensive and the excessive number of tracings is likely due to passing python objects instead of tensors. Also, tf.function has experimental_relax_shapes=True option that relaxes argument shapes that can avoid unnecessary retracing. Please refer to https://www.tensorflow.org/tutorials/customization/performance#python_or_tensor_args and https://www.tensorflow.org/api_docs/python/tf/function for more details.\n"
          ],
          "name": "stderr"
        }
      ]
    },
    {
      "cell_type": "markdown",
      "metadata": {
        "id": "L-fC3XbO_cDi",
        "colab_type": "text"
      },
      "source": [
        "By calling `build_federated_averaging_process`, TFF has constructed a pair of federated computations and packaged them into a `tff.templates.IterativeProcess`, in which these computations are available as a pair of properties `initialize` and `next`. TFF only supports local execution simulation runtime for now. The `initialize` computation is like a function that does not take any arguments, but returns the state representation of the Federated Averaging process on the server. Invoking it constructs the server state"
      ]
    },
    {
      "cell_type": "code",
      "metadata": {
        "id": "ibPRiNwI_bka",
        "colab_type": "code",
        "colab": {
          "base_uri": "https://localhost:8080/",
          "height": 54
        },
        "outputId": "0a2b3975-a6c6-4bef-a2d0-33aacddf7a98"
      },
      "source": [
        "print(str(iterative_process.initialize.type_signature))\n",
        "state = iterative_process.initialize()"
      ],
      "execution_count": 100,
      "outputs": [
        {
          "output_type": "stream",
          "text": [
            "( -> <model=<trainable=<float32[3,3,1,8],float32[8],float32[3,3,8,16],float32[16],float32[3,3,16,32],float32[32],float32[1,1,32,8],float32[8],float32[3,3,8,16],float32[16],float32[3,3,16,32],float32[32],float32[1,1,32,32],float32[32],float32[7,7,32,10],float32[10]>,non_trainable=<>>,optimizer_state=<int64>,delta_aggregate_state=<>,model_broadcast_state=<>>@SERVER)\n"
          ],
          "name": "stdout"
        }
      ]
    },
    {
      "cell_type": "markdown",
      "metadata": {
        "id": "m3RE1zJ7BjIW",
        "colab_type": "text"
      },
      "source": [
        "The `next` computation represents one round of Federated Averaging, which involves:\n",
        "1. Push server state with the global model parameters to the clients.\n",
        "2. On device training with local data.\n",
        "3. Aggregation and averaging of model updates from clients.\n",
        "4. Producing new updated model at server.\n",
        "\n",
        "next() should be considered not as a function running on server, but as a declarative functional representation of the entire decentralized computation.\n",
        "\n",
        "Conducting 10 rounds of federated training:"
      ]
    },
    {
      "cell_type": "code",
      "metadata": {
        "id": "licgRxyKBmYq",
        "colab_type": "code",
        "colab": {
          "base_uri": "https://localhost:8080/",
          "height": 187
        },
        "outputId": "f4716fdd-fa90-4f93-92f7-cfb56d049529"
      },
      "source": [
        "NUM_ROUNDS = 11\n",
        "for round_num in range(1, NUM_ROUNDS):\n",
        "  state, metrics = iterative_process.next(state, federated_train_data)\n",
        "  print('round {:2d}, metrics={}'.format(round_num, metrics))"
      ],
      "execution_count": 101,
      "outputs": [
        {
          "output_type": "stream",
          "text": [
            "round  1, metrics=<sparse_categorical_accuracy=0.12016461044549942,loss=2.298546314239502>\n",
            "round  2, metrics=<sparse_categorical_accuracy=0.13806584477424622,loss=2.2908363342285156>\n",
            "round  3, metrics=<sparse_categorical_accuracy=0.17366255819797516,loss=2.26645565032959>\n",
            "round  4, metrics=<sparse_categorical_accuracy=0.24588477611541748,loss=2.1862783432006836>\n",
            "round  5, metrics=<sparse_categorical_accuracy=0.39444443583488464,loss=1.947983741760254>\n",
            "round  6, metrics=<sparse_categorical_accuracy=0.6921810507774353,loss=1.0725432634353638>\n",
            "round  7, metrics=<sparse_categorical_accuracy=0.78847736120224,loss=0.7530097961425781>\n",
            "round  8, metrics=<sparse_categorical_accuracy=0.8343621492385864,loss=0.5935142636299133>\n",
            "round  9, metrics=<sparse_categorical_accuracy=0.9055555462837219,loss=0.3236108124256134>\n",
            "round 10, metrics=<sparse_categorical_accuracy=0.9253086447715759,loss=0.28766554594039917>\n"
          ],
          "name": "stdout"
        }
      ]
    },
    {
      "cell_type": "markdown",
      "metadata": {
        "id": "W1NXTL5-JLGU",
        "colab_type": "text"
      },
      "source": [
        "The metrics displayed with the rounds represent training metrics. To perform evaluation, another federated computation can be defined using `tff.learning.build_federated_evaluation` function, and passing in the model constructor as argument. Evaluation only involves inference on the test data set, and hence doesn't require constructing optimizers."
      ]
    },
    {
      "cell_type": "code",
      "metadata": {
        "id": "nTsaR-m3Kzhk",
        "colab_type": "code",
        "colab": {
          "base_uri": "https://localhost:8080/",
          "height": 54
        },
        "outputId": "918f862f-ce48-4a85-ab14-e8acc123171e"
      },
      "source": [
        "evaluation = tff.learning.build_federated_evaluation(model_fn)\n",
        "print(str(evaluation.type_signature))"
      ],
      "execution_count": 102,
      "outputs": [
        {
          "output_type": "stream",
          "text": [
            "(<<trainable=<float32[3,3,1,8],float32[8],float32[3,3,8,16],float32[16],float32[3,3,16,32],float32[32],float32[1,1,32,8],float32[8],float32[3,3,8,16],float32[16],float32[3,3,16,32],float32[32],float32[1,1,32,32],float32[32],float32[7,7,32,10],float32[10]>,non_trainable=<>>@SERVER,{<x=float32[?,784],y=int32[?,1]>*}@CLIENTS> -> <sparse_categorical_accuracy=float32@SERVER,loss=float32@SERVER>)\n"
          ],
          "name": "stdout"
        }
      ]
    },
    {
      "cell_type": "code",
      "metadata": {
        "id": "Zf4ncccTLvQP",
        "colab_type": "code",
        "colab": {
          "base_uri": "https://localhost:8080/",
          "height": 34
        },
        "outputId": "20002739-c324-4b5a-c3c3-d6f613258756"
      },
      "source": [
        "train_metrics = evaluation(state.model, federated_train_data)\n",
        "str(train_metrics)"
      ],
      "execution_count": 103,
      "outputs": [
        {
          "output_type": "execute_result",
          "data": {
            "text/plain": [
              "'<sparse_categorical_accuracy=0.8868312835693359,loss=0.4424940347671509>'"
            ]
          },
          "metadata": {
            "tags": []
          },
          "execution_count": 103
        }
      ]
    },
    {
      "cell_type": "code",
      "metadata": {
        "id": "2AkhAHHeL59F",
        "colab_type": "code",
        "colab": {
          "base_uri": "https://localhost:8080/",
          "height": 105
        },
        "outputId": "b2f6963a-5d0c-46e4-c7d1-8e0a0d8cfcfb"
      },
      "source": [
        "federated_test_data = make_federated_data(emnist_test, sample_clients)\n",
        "\n",
        "len(federated_test_data), federated_test_data[0]"
      ],
      "execution_count": 104,
      "outputs": [
        {
          "output_type": "stream",
          "text": [
            "/usr/local/lib/python3.6/dist-packages/tensorflow_federated/python/simulation/hdf5_client_data.py:63: H5pyDeprecationWarning: dataset.value has been deprecated. Use dataset[()] instead.\n",
            "  collections.OrderedDict((name, ds.value) for name, ds in sorted(\n"
          ],
          "name": "stderr"
        },
        {
          "output_type": "execute_result",
          "data": {
            "text/plain": [
              "(10,\n",
              " <PrefetchDataset shapes: OrderedDict([(x, (None, 784)), (y, (None, 1))]), types: OrderedDict([(x, tf.float32), (y, tf.int32)])>)"
            ]
          },
          "metadata": {
            "tags": []
          },
          "execution_count": 104
        }
      ]
    },
    {
      "cell_type": "code",
      "metadata": {
        "id": "nyZf48u_MAFz",
        "colab_type": "code",
        "colab": {
          "base_uri": "https://localhost:8080/",
          "height": 34
        },
        "outputId": "d141ca83-78c8-447c-9cb9-f15a425e8f8e"
      },
      "source": [
        "test_metrics = evaluation(state.model, federated_test_data)\n",
        "str(test_metrics)"
      ],
      "execution_count": 105,
      "outputs": [
        {
          "output_type": "execute_result",
          "data": {
            "text/plain": [
              "'<sparse_categorical_accuracy=0.8620689511299133,loss=0.4663618505001068>'"
            ]
          },
          "metadata": {
            "tags": []
          },
          "execution_count": 105
        }
      ]
    },
    {
      "cell_type": "markdown",
      "metadata": {
        "id": "NmpaPkTqOEpN",
        "colab_type": "text"
      },
      "source": [
        "We have obtained 86% accuracy on test dataset with 10 rounds of federated averaging algorithm."
      ]
    }
  ]
}